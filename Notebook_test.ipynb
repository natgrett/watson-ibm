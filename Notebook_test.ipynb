{
    "cells": [
        {
            "cell_type": "markdown",
            "metadata": {},
            "source": "<h1>My Jupyter Notebook on IBM Watson Studio"
        },
        {
            "cell_type": "markdown",
            "metadata": {},
            "source": "<b> Nataliia Pidhorodetska</b> <br>\nSoftware Developer\n"
        },
        {
            "cell_type": "markdown",
            "metadata": {},
            "source": "<i> I am interested in data science because I like statistics</i>"
        },
        {
            "cell_type": "markdown",
            "metadata": {},
            "source": "<h3> This code creates empty Data Frame with pandas library"
        },
        {
            "cell_type": "code",
            "execution_count": 2,
            "metadata": {},
            "outputs": [
                {
                    "data": {
                        "text/html": "<div>\n<style scoped>\n    .dataframe tbody tr th:only-of-type {\n        vertical-align: middle;\n    }\n\n    .dataframe tbody tr th {\n        vertical-align: top;\n    }\n\n    .dataframe thead th {\n        text-align: right;\n    }\n</style>\n<table border=\"1\" class=\"dataframe\">\n  <thead>\n    <tr style=\"text-align: right;\">\n      <th></th>\n      <th>column_1</th>\n      <th>column_2</th>\n    </tr>\n  </thead>\n  <tbody>\n  </tbody>\n</table>\n</div>",
                        "text/plain": "Empty DataFrame\nColumns: [column_1, column_2]\nIndex: []"
                    },
                    "execution_count": 2,
                    "metadata": {},
                    "output_type": "execute_result"
                }
            ],
            "source": "import pandas as pd\n\ndf = pd.DataFrame(columns=[\"column_1\", \"column_2\"])\ndf.head()"
        },
        {
            "cell_type": "markdown",
            "metadata": {},
            "source": "Courses TODO:\n<img src=\"https://upload.wikimedia.org/wikipedia/commons/thumb/9/97/Coursera-Logo_600x600.svg/2048px-Coursera-Logo_600x600.svg.png\" alt=\"Girl in a jacket\" width=\"100\" height=\"100\" style=\"float: left; margin-right: 100px;\">\n\n<ul>\n  <li>Machine Learning Specialization</li>\n  <li>Practical Data Science on the AWS Cloud Specialization</li>\n  <li>Advanced Data Science with IBM Specialization</li>\n</ul>\n\nPicture was found <a href=\"https://commons.wikimedia.org/wiki/File:Coursera-Logo_600x600.svg\">hier</a>.\n\n\n"
        }
    ],
    "metadata": {
        "kernelspec": {
            "display_name": "Python 3.9",
            "language": "python",
            "name": "python3"
        },
        "language_info": {
            "codemirror_mode": {
                "name": "ipython",
                "version": 3
            },
            "file_extension": ".py",
            "mimetype": "text/x-python",
            "name": "python",
            "nbconvert_exporter": "python",
            "pygments_lexer": "ipython3",
            "version": "3.9.12"
        }
    },
    "nbformat": 4,
    "nbformat_minor": 1
}